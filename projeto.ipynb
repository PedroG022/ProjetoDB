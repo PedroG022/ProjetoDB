{
 "cells": [
  {
   "cell_type": "code",
   "execution_count": 27,
   "metadata": {},
   "outputs": [],
   "source": [
    "import sqlite3"
   ]
  },
  {
   "cell_type": "code",
   "execution_count": 28,
   "metadata": {},
   "outputs": [],
   "source": [
    "insertData = True\n",
    "\n",
    "tableName = \"users\"\n",
    "databaseName = \"./databases/data.db\"\n",
    "fields_user = [\"name\",\"email\", \"password\", \"birthDate\", \"subscription\", \"address\" ,\"phone\", \"paymentMethod\"]\n",
    "fields_user_fill = [\"Pedro\", \"p@edro.com\", \"pedro123\", \"01/01/2001\", \"Rua P\", \"\", \"\", \"\"]\n",
    "\n",
    "deleteDb = input(f'Deletar tabela {tableName}? (0 ou 1): ')"
   ]
  },
  {
   "cell_type": "code",
   "execution_count": 29,
   "metadata": {},
   "outputs": [],
   "source": [
    "con = sqlite3.connect(databaseName)\n",
    "cur = con.cursor()\n",
    "\n",
    "query_insert_columns = \"\"\n",
    "query_insert_values = \"\"\n",
    "\n",
    "for field in fields_user:\n",
    "  idx = fields_user.index(field)\n",
    "\n",
    "  query_insert_columns += f\"'{field}'\"\n",
    "  query_insert_values += f\"'{fields_user_fill[idx]}'\"\n",
    "\n",
    "  if (fields_user.index(field) < len(fields_user) - 1):\n",
    "    query_insert_columns += \",\"\n",
    "    query_insert_values += \",\""
   ]
  },
  {
   "cell_type": "code",
   "execution_count": 30,
   "metadata": {},
   "outputs": [],
   "source": [
    "# Deletar tabela se solicitado\n",
    "if deleteDb == '1':\n",
    "  cur.execute(f\"DROP TABLE {tableName}\")\n",
    "\n",
    "# Criar a tabela com as colunas\n",
    "cur.execute(f\"CREATE TABLE IF NOT EXISTS {tableName} ({query_insert_columns})\")\n",
    "\n",
    "# Inserir os dados\n",
    "if insertData:\n",
    "  cur.execute(f\"INSERT INTO {tableName} VALUES ({query_insert_values})\")\n",
    "\n",
    "# Comittar\n",
    "con.commit()\n",
    "\n",
    "# Fechar a conexão\n",
    "con.close()"
   ]
  },
  {
   "cell_type": "code",
   "execution_count": null,
   "metadata": {},
   "outputs": [],
   "source": []
  }
 ],
 "metadata": {
  "kernelspec": {
   "display_name": "Python 3.10.4 64-bit",
   "language": "python",
   "name": "python3"
  },
  "language_info": {
   "codemirror_mode": {
    "name": "ipython",
    "version": 3
   },
   "file_extension": ".py",
   "mimetype": "text/x-python",
   "name": "python",
   "nbconvert_exporter": "python",
   "pygments_lexer": "ipython3",
   "version": "3.10.4"
  },
  "orig_nbformat": 4,
  "vscode": {
   "interpreter": {
    "hash": "916dbcbb3f70747c44a77c7bcd40155683ae19c65e1c03b4aa3499c5328201f1"
   }
  }
 },
 "nbformat": 4,
 "nbformat_minor": 2
}
